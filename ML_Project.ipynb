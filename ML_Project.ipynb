{
 "cells": [
  {
   "cell_type": "code",
   "execution_count": 37,
   "id": "5a48c79d",
   "metadata": {},
   "outputs": [],
   "source": [
    "import pandas as pd  # 데이터 불러오기\n",
    "import matplotlib.pyplot as plt\n",
    "df = pd.read_csv('C:/Users/황준하/PycharmProjects/pythonProject/국가건강검진_혈압혈당데이터.csv', sep=',')"
   ]
  },
  {
   "cell_type": "code",
   "execution_count": 29,
   "id": "07995a0e",
   "metadata": {
    "scrolled": false
   },
   "outputs": [
    {
     "name": "stdout",
     "output_type": "stream",
     "text": [
      "        SEX  BTH_G  SBP  DBP  FBS  DIS   BMI\n",
      "0         1      1  116   78   94    4  16.6\n",
      "1         1      1  100   60   79    4  22.3\n",
      "2         1      1  100   60   87    4  21.9\n",
      "3         1      1  111   70   72    4  20.2\n",
      "4         1      1  120   80   98    4  20.0\n",
      "...     ...    ...  ...  ...  ...  ...   ...\n",
      "999995    2     27  120   70   81    2  23.1\n",
      "999996    2     27  110   70  104    2  27.2\n",
      "999997    2     27  115   53  110    1  25.2\n",
      "999998    2     27  120   70   90    2  19.7\n",
      "999999    2     27  116   73   92    4  17.6\n",
      "\n",
      "[1000000 rows x 7 columns]\n"
     ]
    }
   ],
   "source": [
    "print(df)"
   ]
  },
  {
   "cell_type": "code",
   "execution_count": 28,
   "id": "41343a8e",
   "metadata": {
    "scrolled": true
   },
   "outputs": [
    {
     "name": "stdout",
     "output_type": "stream",
     "text": [
      "        SEX  DIS  SBP\n",
      "52        1    2   90\n",
      "133       1    2  100\n",
      "204       1    2  170\n",
      "255       1    2  135\n",
      "288       1    2  130\n",
      "...     ...  ...  ...\n",
      "999987    2    2  139\n",
      "999992    2    2  120\n",
      "999995    2    2  120\n",
      "999996    2    2  110\n",
      "999998    2    2  120\n",
      "\n",
      "[162826 rows x 3 columns]\n"
     ]
    }
   ],
   "source": [
    "res = df.loc[:,['SEX','DIS','SBP']]  # DIS가 2인(고혈압인) 사람들의 최고혈압 데이터 필터링\n",
    "ft= res['DIS'].isin([2])\n",
    "res2=res[ft]\n",
    "print(res2)"
   ]
  },
  {
   "cell_type": "code",
   "execution_count": 44,
   "id": "327d8b0a",
   "metadata": {
    "scrolled": true
   },
   "outputs": [
    {
     "data": {
      "text/plain": [
       "0         116\n",
       "1         100\n",
       "2         100\n",
       "3         111\n",
       "4         120\n",
       "         ... \n",
       "999972    130\n",
       "999985    110\n",
       "999988    110\n",
       "999994    130\n",
       "999999    116\n",
       "Name: SBP, Length: 740662, dtype: int64"
      ]
     },
     "execution_count": 44,
     "metadata": {},
     "output_type": "execute_result"
    }
   ],
   "source": [
    "res2['SBP'].describe()  # 고혈압인 사람들의 최고혈압 통계"
   ]
  },
  {
   "cell_type": "code",
   "execution_count": 48,
   "id": "984cb398",
   "metadata": {},
   "outputs": [
    {
     "data": {
      "text/plain": [
       "Text(0.5, 1.0, 'Boxplot of SBP by DIS Status')"
      ]
     },
     "execution_count": 48,
     "metadata": {},
     "output_type": "execute_result"
    },
    {
     "data": {
      "image/png": "[encoded data removed]",
      "text/plain": [
       "<Figure size 432x288 with 1 Axes>"
      ]
     },
     "metadata": {
      "needs_background": "light"
     },
     "output_type": "display_data"
    }
   ],
   "source": [
    "ft2=res['DIS'].isin([4])   # 고혈압과 정상인의 최고혈압 비교\n",
    "nomal=res[ft2]\n",
    "boxplot = plt.figure()\n",
    "axes= boxplot.add_subplot(1,1,1)\n",
    "\n",
    "axes.boxplot([res2['SBP'],nomal['SBP']],labels=['Hypertension','Nomal'])\n",
    "axes.set_xlabel('DIS')\n",
    "axes.set_ylabel('SBP')\n",
    "axes.set_title('Boxplot of SBP by DIS Status')"
   ]
  },
  {
   "cell_type": "code",
   "execution_count": 11,
   "id": "112cb6a6",
   "metadata": {},
   "outputs": [
    {
     "data": {
      "text/html": [
       "<div>\n",
       "<style scoped>\n",
       "    .dataframe tbody tr th:only-of-type {\n",
       "        vertical-align: middle;\n",
       "    }\n",
       "\n",
       "    .dataframe tbody tr th {\n",
       "        vertical-align: top;\n",
       "    }\n",
       "\n",
       "    .dataframe thead th {\n",
       "        text-align: right;\n",
       "    }\n",
       "</style>\n",
       "<table border=\"1\" class=\"dataframe\">\n",
       "  <thead>\n",
       "    <tr style=\"text-align: right;\">\n",
       "      <th></th>\n",
       "      <th></th>\n",
       "      <th>count</th>\n",
       "      <th>mean</th>\n",
       "      <th>std</th>\n",
       "      <th>min</th>\n",
       "      <th>25%</th>\n",
       "      <th>50%</th>\n",
       "      <th>75%</th>\n",
       "      <th>max</th>\n",
       "    </tr>\n",
       "    <tr>\n",
       "      <th>SEX</th>\n",
       "      <th>DIS</th>\n",
       "      <th></th>\n",
       "      <th></th>\n",
       "      <th></th>\n",
       "      <th></th>\n",
       "      <th></th>\n",
       "      <th></th>\n",
       "      <th></th>\n",
       "      <th></th>\n",
       "    </tr>\n",
       "  </thead>\n",
       "  <tbody>\n",
       "    <tr>\n",
       "      <th rowspan=\"4\" valign=\"top\">1</th>\n",
       "      <th>1</th>\n",
       "      <td>27979.0</td>\n",
       "      <td>130.251760</td>\n",
       "      <td>14.595064</td>\n",
       "      <td>83.0</td>\n",
       "      <td>120.0</td>\n",
       "      <td>130.0</td>\n",
       "      <td>140.0</td>\n",
       "      <td>190.0</td>\n",
       "    </tr>\n",
       "    <tr>\n",
       "      <th>2</th>\n",
       "      <td>79892.0</td>\n",
       "      <td>130.780429</td>\n",
       "      <td>14.566689</td>\n",
       "      <td>82.0</td>\n",
       "      <td>120.0</td>\n",
       "      <td>130.0</td>\n",
       "      <td>140.0</td>\n",
       "      <td>190.0</td>\n",
       "    </tr>\n",
       "    <tr>\n",
       "      <th>3</th>\n",
       "      <td>23900.0</td>\n",
       "      <td>123.991590</td>\n",
       "      <td>13.137069</td>\n",
       "      <td>83.0</td>\n",
       "      <td>115.0</td>\n",
       "      <td>123.0</td>\n",
       "      <td>131.0</td>\n",
       "      <td>190.0</td>\n",
       "    </tr>\n",
       "    <tr>\n",
       "      <th>4</th>\n",
       "      <td>378456.0</td>\n",
       "      <td>122.484424</td>\n",
       "      <td>12.697040</td>\n",
       "      <td>82.0</td>\n",
       "      <td>114.0</td>\n",
       "      <td>120.0</td>\n",
       "      <td>130.0</td>\n",
       "      <td>190.0</td>\n",
       "    </tr>\n",
       "    <tr>\n",
       "      <th rowspan=\"4\" valign=\"top\">2</th>\n",
       "      <th>1</th>\n",
       "      <td>25419.0</td>\n",
       "      <td>130.907628</td>\n",
       "      <td>15.388554</td>\n",
       "      <td>82.0</td>\n",
       "      <td>120.0</td>\n",
       "      <td>130.0</td>\n",
       "      <td>140.0</td>\n",
       "      <td>190.0</td>\n",
       "    </tr>\n",
       "    <tr>\n",
       "      <th>2</th>\n",
       "      <td>82934.0</td>\n",
       "      <td>130.330576</td>\n",
       "      <td>15.117900</td>\n",
       "      <td>82.0</td>\n",
       "      <td>120.0</td>\n",
       "      <td>130.0</td>\n",
       "      <td>140.0</td>\n",
       "      <td>190.0</td>\n",
       "    </tr>\n",
       "    <tr>\n",
       "      <th>3</th>\n",
       "      <td>19214.0</td>\n",
       "      <td>122.489435</td>\n",
       "      <td>14.150302</td>\n",
       "      <td>84.0</td>\n",
       "      <td>112.0</td>\n",
       "      <td>120.0</td>\n",
       "      <td>130.0</td>\n",
       "      <td>190.0</td>\n",
       "    </tr>\n",
       "    <tr>\n",
       "      <th>4</th>\n",
       "      <td>362206.0</td>\n",
       "      <td>115.875734</td>\n",
       "      <td>13.455754</td>\n",
       "      <td>82.0</td>\n",
       "      <td>107.0</td>\n",
       "      <td>115.0</td>\n",
       "      <td>124.0</td>\n",
       "      <td>190.0</td>\n",
       "    </tr>\n",
       "  </tbody>\n",
       "</table>\n",
       "</div>"
      ],
      "text/plain": [
       "            count        mean        std   min    25%    50%    75%    max\n",
       "SEX DIS                                                                   \n",
       "1   1     27979.0  130.251760  14.595064  83.0  120.0  130.0  140.0  190.0\n",
       "    2     79892.0  130.780429  14.566689  82.0  120.0  130.0  140.0  190.0\n",
       "    3     23900.0  123.991590  13.137069  83.0  115.0  123.0  131.0  190.0\n",
       "    4    378456.0  122.484424  12.697040  82.0  114.0  120.0  130.0  190.0\n",
       "2   1     25419.0  130.907628  15.388554  82.0  120.0  130.0  140.0  190.0\n",
       "    2     82934.0  130.330576  15.117900  82.0  120.0  130.0  140.0  190.0\n",
       "    3     19214.0  122.489435  14.150302  84.0  112.0  120.0  130.0  190.0\n",
       "    4    362206.0  115.875734  13.455754  82.0  107.0  115.0  124.0  190.0"
      ]
     },
     "execution_count": 11,
     "metadata": {},
     "output_type": "execute_result"
    }
   ],
   "source": []
  },
  {
   "cell_type": "code",
   "execution_count": null,
   "id": "3dfc887c",
   "metadata": {},
   "outputs": [],
   "source": []
  }
 ],
 "metadata": {
  "kernelspec": {
   "display_name": "Python 3",
   "language": "python",
   "name": "python3"
  },
  "language_info": {
   "codemirror_mode": {
    "name": "ipython",
    "version": 3
   },
   "file_extension": ".py",
   "mimetype": "text/x-python",
   "name": "python",
   "nbconvert_exporter": "python",
   "pygments_lexer": "ipython3",
   "version": "3.8.8"
  }
 },
 "nbformat": 4,
 "nbformat_minor": 5
}
