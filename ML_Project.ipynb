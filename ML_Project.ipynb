{
 "cells": [
  {
   "cell_type": "code",
   "execution_count": 26,
   "id": "5a48c79d",
   "metadata": {},
   "outputs": [],
   "source": [
    "import pandas as pd  # 데이터 불러오기\n",
    "import matplotlib.pyplot as plt\n",
    "df = pd.read_csv('C:/Users/황준하/PycharmProjects/pythonProject/국가건강검진_혈압혈당데이터.csv', sep=',')"
   ]
  },
  {
   "cell_type": "code",
   "execution_count": 8,
   "id": "07995a0e",
   "metadata": {
    "scrolled": false
   },
   "outputs": [
    {
     "name": "stdout",
     "output_type": "stream",
     "text": [
      "        SEX  BTH_G  SBP  DBP  FBS  DIS   BMI\n",
      "0         1      1  116   78   94    4  16.6\n",
      "1         1      1  100   60   79    4  22.3\n",
      "2         1      1  100   60   87    4  21.9\n",
      "3         1      1  111   70   72    4  20.2\n",
      "4         1      1  120   80   98    4  20.0\n",
      "...     ...    ...  ...  ...  ...  ...   ...\n",
      "999995    2     27  120   70   81    2  23.1\n",
      "999996    2     27  110   70  104    2  27.2\n",
      "999997    2     27  115   53  110    1  25.2\n",
      "999998    2     27  120   70   90    2  19.7\n",
      "999999    2     27  116   73   92    4  17.6\n",
      "\n",
      "[1000000 rows x 7 columns]\n"
     ]
    }
   ],
   "source": [
    "print(df)"
   ]
  },
  {
   "cell_type": "code",
   "execution_count": 9,
   "id": "41343a8e",
   "metadata": {
    "scrolled": true
   },
   "outputs": [
    {
     "name": "stdout",
     "output_type": "stream",
     "text": [
      "        SEX  DIS  SBP\n",
      "52        1    2   90\n",
      "133       1    2  100\n",
      "204       1    2  170\n",
      "255       1    2  135\n",
      "288       1    2  130\n",
      "...     ...  ...  ...\n",
      "999987    2    2  139\n",
      "999992    2    2  120\n",
      "999995    2    2  120\n",
      "999996    2    2  110\n",
      "999998    2    2  120\n",
      "\n",
      "[162826 rows x 3 columns]\n"
     ]
    }
   ],
   "source": [
    "res = df.loc[:,['SEX','DIS','SBP']]  # DIS가 2인(고혈압인) 사람들의 최고혈압 데이터 필터링\n",
    "ft= res['DIS'].isin([2])\n",
    "res2=res[ft]\n",
    "print(res2)"
   ]
  },
  {
   "cell_type": "code",
   "execution_count": 10,
   "id": "327d8b0a",
   "metadata": {
    "scrolled": true
   },
   "outputs": [
    {
     "data": {
      "text/plain": [
       "count    162826.000000\n",
       "mean        130.551300\n",
       "std          14.851658\n",
       "min          82.000000\n",
       "25%         120.000000\n",
       "50%         130.000000\n",
       "75%         140.000000\n",
       "max         190.000000\n",
       "Name: SBP, dtype: float64"
      ]
     },
     "execution_count": 10,
     "metadata": {},
     "output_type": "execute_result"
    }
   ],
   "source": [
    "res2['SBP'].describe()  # 고혈압인 사람들의 최고혈압 통계"
   ]
  },
  {
   "cell_type": "code",
   "execution_count": 11,
   "id": "984cb398",
   "metadata": {},
   "outputs": [
    {
     "data": {
      "text/plain": [
       "Text(0.5, 1.0, 'Boxplot of SBP by DIS Status')"
      ]
     },
     "execution_count": 11,
     "metadata": {},
     "output_type": "execute_result"
    },
    {
     "data": {
      "image/png": "[encoded data removed]",
      "text/plain": [
       "<Figure size 432x288 with 1 Axes>"
      ]
     },
     "metadata": {
      "needs_background": "light"
     },
     "output_type": "display_data"
    }
   ],
   "source": [
    "ft2=res['DIS'].isin([4])   # 고혈압과 정상인의 최고혈압 비교\n",
    "nomal=res[ft2]\n",
    "boxplot = plt.figure()\n",
    "axes= boxplot.add_subplot(1,1,1)\n",
    "\n",
    "axes.boxplot([res2['SBP'],nomal['SBP']],labels=['Hypertension','Nomal'])\n",
    "axes.set_xlabel('DIS')\n",
    "axes.set_ylabel('SBP')\n",
    "axes.set_title('Boxplot of SBP by DIS Status')"
   ]
  },
  {
   "cell_type": "code",
   "execution_count": 27,
   "id": "112cb6a6",
   "metadata": {
    "scrolled": true
   },
   "outputs": [
    {
     "data": {
      "text/plain": [
       "DIS\n",
       "1    130.563972\n",
       "2    130.551300\n",
       "3    123.322146\n",
       "4    119.252575\n",
       "Name: SBP, dtype: float64"
      ]
     },
     "execution_count": 27,
     "metadata": {},
     "output_type": "execute_result"
    }
   ],
   "source": [
    "df.groupby('DIS')['SBP'].mean()  # 고혈압/당뇨병 진료여부에 따른 최고혈압 평균"
   ]
  },
  {
   "cell_type": "code",
   "execution_count": 42,
   "id": "42fa5715",
   "metadata": {},
   "outputs": [
    {
     "data": {
      "text/plain": [
       "DIS\n",
       "1    78.366193\n",
       "2    80.040417\n",
       "3    75.679478\n",
       "4    74.673427\n",
       "Name: DBP, dtype: float64"
      ]
     },
     "execution_count": 42,
     "metadata": {},
     "output_type": "execute_result"
    }
   ],
   "source": [
    "df.groupby('DIS')['DBP'].mean()  # 고혈압/당뇨병 진료여부에 따른 최저혈압 평균"
   ]
  },
  {
   "cell_type": "code",
   "execution_count": 34,
   "id": "3dfc887c",
   "metadata": {},
   "outputs": [
    {
     "data": {
      "text/plain": [
       "BTH_G  DIS\n",
       "1      1      132.666667\n",
       "       2      126.725000\n",
       "       3      117.354430\n",
       "       4      114.120764\n",
       "2      1      139.333333\n",
       "                 ...    \n",
       "26     4      125.944622\n",
       "27     1      132.181784\n",
       "       2      132.283068\n",
       "       3      127.378951\n",
       "       4      126.221835\n",
       "Name: SBP, Length: 108, dtype: float64"
      ]
     },
     "execution_count": 34,
     "metadata": {},
     "output_type": "execute_result"
    }
   ],
   "source": [
    "df.groupby(['BTH_G','DIS'])['SBP'].mean()  # 연령별 고혈압/당뇨병 진료여부에 따른 최고혈압 평균"
   ]
  },
  {
   "cell_type": "code",
   "execution_count": 35,
   "id": "22ecb253",
   "metadata": {},
   "outputs": [
    {
     "data": {
      "text/plain": [
       "SEX  BTH_G  DIS\n",
       "1    1      1      128.166667\n",
       "            2      133.034483\n",
       "            3      123.206897\n",
       "            4      119.441295\n",
       "     2      1      146.500000\n",
       "                      ...    \n",
       "2    26     4      126.003162\n",
       "     27     1      132.889138\n",
       "            2      132.495482\n",
       "            3      127.763872\n",
       "            4      126.356684\n",
       "Name: SBP, Length: 216, dtype: float64"
      ]
     },
     "execution_count": 35,
     "metadata": {},
     "output_type": "execute_result"
    }
   ],
   "source": [
    "df.groupby(['SEX','BTH_G','DIS'])['SBP'].mean() # 성별과 연령별 고혈압/당뇨병 진료여부에 따른 최고혈압 평균"
   ]
  },
  {
   "cell_type": "code",
   "execution_count": 36,
   "id": "1ccb502e",
   "metadata": {},
   "outputs": [
    {
     "data": {
      "text/plain": [
       "SEX  BTH_G  DIS\n",
       "1    1      1      189.000000\n",
       "            2       91.500000\n",
       "            3      158.827586\n",
       "            4       89.022748\n",
       "     2      1      158.500000\n",
       "                      ...    \n",
       "2    26     4       95.862472\n",
       "     27     1      123.363414\n",
       "            2       99.583191\n",
       "            3      122.804562\n",
       "            4       96.757149\n",
       "Name: FBS, Length: 216, dtype: float64"
      ]
     },
     "execution_count": 36,
     "metadata": {},
     "output_type": "execute_result"
    }
   ],
   "source": [
    "df.groupby(['SEX','BTH_G','DIS'])['FBS'].mean() # 성별과 연령별 고혈압/당뇨병 진료여부에 따른 공복혈당 평균"
   ]
  },
  {
   "cell_type": "code",
   "execution_count": 37,
   "id": "d333fe2a",
   "metadata": {},
   "outputs": [
    {
     "data": {
      "text/plain": [
       "BTH_G\n",
       "1        80\n",
       "2        95\n",
       "3       143\n",
       "4       235\n",
       "5       426\n",
       "6       564\n",
       "7       791\n",
       "8      1014\n",
       "9      2238\n",
       "10     2848\n",
       "11     3652\n",
       "12     4470\n",
       "13     5430\n",
       "14     6496\n",
       "15     8640\n",
       "16    10009\n",
       "17    10308\n",
       "18    10926\n",
       "19     9983\n",
       "20     9686\n",
       "21     9724\n",
       "22    10980\n",
       "23     8099\n",
       "24     8411\n",
       "25     9539\n",
       "26     7468\n",
       "27    20571\n",
       "Name: DIS, dtype: int64"
      ]
     },
     "execution_count": 37,
     "metadata": {},
     "output_type": "execute_result"
    }
   ],
   "source": [
    "Hy_ft = df['DIS'].isin([2])  # 연령별 고혈압진료를 받은 사람 수\n",
    "Hy_res=df[Hy_ft]\n",
    "Hy_res.groupby('BTH_G')['DIS'].count()"
   ]
  },
  {
   "cell_type": "code",
   "execution_count": 38,
   "id": "640b2684",
   "metadata": {},
   "outputs": [
    {
     "data": {
      "text/plain": [
       "BTH_G\n",
       "1       79\n",
       "2       55\n",
       "3      109\n",
       "4      168\n",
       "5      203\n",
       "6      261\n",
       "7      350\n",
       "8      394\n",
       "9      977\n",
       "10    1050\n",
       "11    1327\n",
       "12    1600\n",
       "13    1797\n",
       "14    1977\n",
       "15    2593\n",
       "16    2988\n",
       "17    2986\n",
       "18    3036\n",
       "19    2743\n",
       "20    2725\n",
       "21    2529\n",
       "22    2618\n",
       "23    1941\n",
       "24    1919\n",
       "25    2068\n",
       "26    1457\n",
       "27    3164\n",
       "Name: DIS, dtype: int64"
      ]
     },
     "execution_count": 38,
     "metadata": {},
     "output_type": "execute_result"
    }
   ],
   "source": [
    "diab_ft = df['DIS'].isin([3])  # 연령별 당뇨병진료를 받은 사람 수\n",
    "diab_res=df[diab_ft]\n",
    "diab_res.groupby('BTH_G')['DIS'].count()"
   ]
  },
  {
   "cell_type": "code",
   "execution_count": 41,
   "id": "3c631347",
   "metadata": {
    "scrolled": true
   },
   "outputs": [
    {
     "data": {
      "text/plain": [
       "SEX  DIS\n",
       "1    1      25.230262\n",
       "     2      25.032513\n",
       "     3      24.349331\n",
       "     4      24.148851\n",
       "2    1      25.414725\n",
       "     2      24.802465\n",
       "     3      24.158218\n",
       "     4      22.666182\n",
       "Name: BMI, dtype: float64"
      ]
     },
     "execution_count": 41,
     "metadata": {},
     "output_type": "execute_result"
    }
   ],
   "source": [
    "df.groupby(['SEX','DIS'])['BMI'].mean()  # 성별과 고혈압/당뇨병 진료 여부에 따른 BMI 평균"
   ]
  },
  {
   "cell_type": "code",
   "execution_count": null,
   "id": "7b407905",
   "metadata": {},
   "outputs": [],
   "source": []
  }
 ],
 "metadata": {
  "kernelspec": {
   "display_name": "Python 3",
   "language": "python",
   "name": "python3"
  },
  "language_info": {
   "codemirror_mode": {
    "name": "ipython",
    "version": 3
   },
   "file_extension": ".py",
   "mimetype": "text/x-python",
   "name": "python",
   "nbconvert_exporter": "python",
   "pygments_lexer": "ipython3",
   "version": "3.8.8"
  }
 },
 "nbformat": 4,
 "nbformat_minor": 5
}
